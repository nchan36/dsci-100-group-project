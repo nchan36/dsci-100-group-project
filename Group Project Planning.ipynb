{
 "cells": [
  {
   "cell_type": "markdown",
   "id": "52991910-97c7-43e6-a33c-9ba9fbe4f126",
   "metadata": {},
   "source": [
    "test"
   ]
  },
  {
   "cell_type": "markdown",
   "id": "1f2931e2-df4d-4133-8e43-193d16aeba8f",
   "metadata": {},
   "source": [
    "test"
   ]
  },
  {
   "cell_type": "code",
   "execution_count": null,
   "id": "e1accc2d-d989-48a7-9a9d-10833448d442",
   "metadata": {},
   "outputs": [],
   "source": []
  }
 ],
 "metadata": {
  "kernelspec": {
   "display_name": "R",
   "language": "R",
   "name": "ir"
  },
  "language_info": {
   "codemirror_mode": "r",
   "file_extension": ".r",
   "mimetype": "text/x-r-source",
   "name": "R",
   "pygments_lexer": "r",
   "version": "4.3.3"
  }
 },
 "nbformat": 4,
 "nbformat_minor": 5
}
