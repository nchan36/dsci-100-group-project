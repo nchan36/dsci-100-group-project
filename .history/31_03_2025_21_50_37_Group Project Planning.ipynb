{
 "cells": [
  {
   "cell_type": "markdown",
   "id": "c8c8f91b-d2f0-45ce-b8cd-e15f19cb65d3",
   "metadata": {},
   "source": [
    "test"
   ]
  },
  {
   "cell_type": "code",
   "execution_count": null,
   "id": "156c53e0-f7ea-402f-a512-d8c8d632e185",
   "metadata": {},
   "outputs": [],
   "source": [
    "library(tidyverse)"
   ]
  },
  {
   "cell_type": "code",
   "execution_count": null,
   "id": "5fdcec91-22fc-441d-8eec-2c8cdbde1b8e",
   "metadata": {},
   "outputs": [],
   "source": []
  }
 ],
 "metadata": {
  "kernelspec": {
   "display_name": "R",
   "language": "R",
   "name": "ir"
  },
  "language_info": {
   "codemirror_mode": "r",
   "file_extension": ".r",
   "mimetype": "text/x-r-source",
   "name": "R",
   "pygments_lexer": "r",
   "version": "4.3.3"
  }
 },
 "nbformat": 4,
 "nbformat_minor": 5
}
